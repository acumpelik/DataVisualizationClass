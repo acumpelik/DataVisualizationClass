{
 "cells": [
  {
   "cell_type": "code",
   "execution_count": 2,
   "metadata": {},
   "outputs": [],
   "source": [
    "import pandas as pd\n",
    "import numpy as np\n",
    "import matplotlib.pyplot as plt"
   ]
  },
  {
   "cell_type": "markdown",
   "metadata": {},
   "source": [
    "# Dataset description\n",
    "This dataset describes culmen length, flipper length, and body mass for male and female penguins from various islands and of various species.\n"
   ]
  },
  {
   "cell_type": "code",
   "execution_count": 3,
   "metadata": {},
   "outputs": [
    {
     "data": {
      "text/html": [
       "<div>\n",
       "<style scoped>\n",
       "    .dataframe tbody tr th:only-of-type {\n",
       "        vertical-align: middle;\n",
       "    }\n",
       "\n",
       "    .dataframe tbody tr th {\n",
       "        vertical-align: top;\n",
       "    }\n",
       "\n",
       "    .dataframe thead th {\n",
       "        text-align: right;\n",
       "    }\n",
       "</style>\n",
       "<table border=\"1\" class=\"dataframe\">\n",
       "  <thead>\n",
       "    <tr style=\"text-align: right;\">\n",
       "      <th></th>\n",
       "      <th>species</th>\n",
       "      <th>island</th>\n",
       "      <th>culmen_length_mm</th>\n",
       "      <th>flipper_length_mm</th>\n",
       "      <th>body_mass_g</th>\n",
       "      <th>sex</th>\n",
       "    </tr>\n",
       "  </thead>\n",
       "  <tbody>\n",
       "    <tr>\n",
       "      <th>0</th>\n",
       "      <td>Adelie</td>\n",
       "      <td>Torgersen</td>\n",
       "      <td>39.1</td>\n",
       "      <td>181</td>\n",
       "      <td>3750</td>\n",
       "      <td>MALE</td>\n",
       "    </tr>\n",
       "    <tr>\n",
       "      <th>1</th>\n",
       "      <td>Adelie</td>\n",
       "      <td>Torgersen</td>\n",
       "      <td>39.5</td>\n",
       "      <td>186</td>\n",
       "      <td>3800</td>\n",
       "      <td>FEMALE</td>\n",
       "    </tr>\n",
       "    <tr>\n",
       "      <th>2</th>\n",
       "      <td>Adelie</td>\n",
       "      <td>Torgersen</td>\n",
       "      <td>40.3</td>\n",
       "      <td>195</td>\n",
       "      <td>3250</td>\n",
       "      <td>FEMALE</td>\n",
       "    </tr>\n",
       "    <tr>\n",
       "      <th>3</th>\n",
       "      <td>Adelie</td>\n",
       "      <td>Torgersen</td>\n",
       "      <td>36.7</td>\n",
       "      <td>193</td>\n",
       "      <td>3450</td>\n",
       "      <td>FEMALE</td>\n",
       "    </tr>\n",
       "    <tr>\n",
       "      <th>4</th>\n",
       "      <td>Adelie</td>\n",
       "      <td>Torgersen</td>\n",
       "      <td>39.3</td>\n",
       "      <td>190</td>\n",
       "      <td>3650</td>\n",
       "      <td>MALE</td>\n",
       "    </tr>\n",
       "  </tbody>\n",
       "</table>\n",
       "</div>"
      ],
      "text/plain": [
       "  species     island  culmen_length_mm  flipper_length_mm  body_mass_g     sex\n",
       "0  Adelie  Torgersen              39.1                181         3750    MALE\n",
       "1  Adelie  Torgersen              39.5                186         3800  FEMALE\n",
       "2  Adelie  Torgersen              40.3                195         3250  FEMALE\n",
       "3  Adelie  Torgersen              36.7                193         3450  FEMALE\n",
       "4  Adelie  Torgersen              39.3                190         3650    MALE"
      ]
     },
     "execution_count": 3,
     "metadata": {},
     "output_type": "execute_result"
    }
   ],
   "source": [
    "df = pd.read_csv(\"C_DSSC_201_S21_Dataset1.csv\") #/home/andrea/GitHub/DataVisualisationClass/\n",
    "df.head()"
   ]
  },
  {
   "cell_type": "code",
   "execution_count": 4,
   "metadata": {},
   "outputs": [
    {
     "name": "stdout",
     "output_type": "stream",
     "text": [
      "Index(['species', 'island', 'culmen_length_mm', 'flipper_length_mm',\n",
      "       'body_mass_g', 'sex'],\n",
      "      dtype='object')\n"
     ]
    }
   ],
   "source": [
    "print(df.columns)"
   ]
  },
  {
   "cell_type": "code",
   "execution_count": 5,
   "metadata": {},
   "outputs": [
    {
     "name": "stdout",
     "output_type": "stream",
     "text": [
      "<class 'pandas.core.frame.DataFrame'>\n",
      "RangeIndex: 339 entries, 0 to 338\n",
      "Data columns (total 6 columns):\n",
      " #   Column             Non-Null Count  Dtype  \n",
      "---  ------             --------------  -----  \n",
      " 0   species            339 non-null    object \n",
      " 1   island             339 non-null    object \n",
      " 2   culmen_length_mm   339 non-null    float64\n",
      " 3   flipper_length_mm  339 non-null    int64  \n",
      " 4   body_mass_g        339 non-null    int64  \n",
      " 5   sex                333 non-null    object \n",
      "dtypes: float64(1), int64(2), object(3)\n",
      "memory usage: 16.0+ KB\n",
      "None\n"
     ]
    }
   ],
   "source": [
    "print(df.info())"
   ]
  },
  {
   "cell_type": "code",
   "execution_count": 6,
   "metadata": {},
   "outputs": [
    {
     "data": {
      "text/html": [
       "<div>\n",
       "<style scoped>\n",
       "    .dataframe tbody tr th:only-of-type {\n",
       "        vertical-align: middle;\n",
       "    }\n",
       "\n",
       "    .dataframe tbody tr th {\n",
       "        vertical-align: top;\n",
       "    }\n",
       "\n",
       "    .dataframe thead th {\n",
       "        text-align: right;\n",
       "    }\n",
       "</style>\n",
       "<table border=\"1\" class=\"dataframe\">\n",
       "  <thead>\n",
       "    <tr style=\"text-align: right;\">\n",
       "      <th></th>\n",
       "      <th>culmen_length_mm</th>\n",
       "      <th>flipper_length_mm</th>\n",
       "      <th>body_mass_g</th>\n",
       "    </tr>\n",
       "  </thead>\n",
       "  <tbody>\n",
       "    <tr>\n",
       "      <th>count</th>\n",
       "      <td>339.000000</td>\n",
       "      <td>339.000000</td>\n",
       "      <td>339.000000</td>\n",
       "    </tr>\n",
       "    <tr>\n",
       "      <th>mean</th>\n",
       "      <td>43.908555</td>\n",
       "      <td>200.778761</td>\n",
       "      <td>4198.525074</td>\n",
       "    </tr>\n",
       "    <tr>\n",
       "      <th>std</th>\n",
       "      <td>5.480483</td>\n",
       "      <td>14.048353</td>\n",
       "      <td>804.143785</td>\n",
       "    </tr>\n",
       "    <tr>\n",
       "      <th>min</th>\n",
       "      <td>32.100000</td>\n",
       "      <td>172.000000</td>\n",
       "      <td>2700.000000</td>\n",
       "    </tr>\n",
       "    <tr>\n",
       "      <th>25%</th>\n",
       "      <td>39.200000</td>\n",
       "      <td>190.000000</td>\n",
       "      <td>3550.000000</td>\n",
       "    </tr>\n",
       "    <tr>\n",
       "      <th>50%</th>\n",
       "      <td>44.100000</td>\n",
       "      <td>197.000000</td>\n",
       "      <td>4000.000000</td>\n",
       "    </tr>\n",
       "    <tr>\n",
       "      <th>75%</th>\n",
       "      <td>48.500000</td>\n",
       "      <td>213.000000</td>\n",
       "      <td>4750.000000</td>\n",
       "    </tr>\n",
       "    <tr>\n",
       "      <th>max</th>\n",
       "      <td>59.600000</td>\n",
       "      <td>231.000000</td>\n",
       "      <td>6300.000000</td>\n",
       "    </tr>\n",
       "  </tbody>\n",
       "</table>\n",
       "</div>"
      ],
      "text/plain": [
       "       culmen_length_mm  flipper_length_mm  body_mass_g\n",
       "count        339.000000         339.000000   339.000000\n",
       "mean          43.908555         200.778761  4198.525074\n",
       "std            5.480483          14.048353   804.143785\n",
       "min           32.100000         172.000000  2700.000000\n",
       "25%           39.200000         190.000000  3550.000000\n",
       "50%           44.100000         197.000000  4000.000000\n",
       "75%           48.500000         213.000000  4750.000000\n",
       "max           59.600000         231.000000  6300.000000"
      ]
     },
     "execution_count": 6,
     "metadata": {},
     "output_type": "execute_result"
    }
   ],
   "source": [
    "df.describe()"
   ]
  },
  {
   "cell_type": "code",
   "execution_count": 7,
   "metadata": {},
   "outputs": [
    {
     "data": {
      "text/html": [
       "<div>\n",
       "<style scoped>\n",
       "    .dataframe tbody tr th:only-of-type {\n",
       "        vertical-align: middle;\n",
       "    }\n",
       "\n",
       "    .dataframe tbody tr th {\n",
       "        vertical-align: top;\n",
       "    }\n",
       "\n",
       "    .dataframe thead th {\n",
       "        text-align: right;\n",
       "    }\n",
       "</style>\n",
       "<table border=\"1\" class=\"dataframe\">\n",
       "  <thead>\n",
       "    <tr style=\"text-align: right;\">\n",
       "      <th></th>\n",
       "      <th>species</th>\n",
       "      <th>island</th>\n",
       "      <th>sex</th>\n",
       "    </tr>\n",
       "  </thead>\n",
       "  <tbody>\n",
       "    <tr>\n",
       "      <th>count</th>\n",
       "      <td>339</td>\n",
       "      <td>339</td>\n",
       "      <td>333</td>\n",
       "    </tr>\n",
       "    <tr>\n",
       "      <th>unique</th>\n",
       "      <td>3</td>\n",
       "      <td>3</td>\n",
       "      <td>2</td>\n",
       "    </tr>\n",
       "    <tr>\n",
       "      <th>top</th>\n",
       "      <td>Adelie</td>\n",
       "      <td>Biscoe</td>\n",
       "      <td>MALE</td>\n",
       "    </tr>\n",
       "    <tr>\n",
       "      <th>freq</th>\n",
       "      <td>151</td>\n",
       "      <td>164</td>\n",
       "      <td>168</td>\n",
       "    </tr>\n",
       "  </tbody>\n",
       "</table>\n",
       "</div>"
      ],
      "text/plain": [
       "       species  island   sex\n",
       "count      339     339   333\n",
       "unique       3       3     2\n",
       "top     Adelie  Biscoe  MALE\n",
       "freq       151     164   168"
      ]
     },
     "execution_count": 7,
     "metadata": {},
     "output_type": "execute_result"
    }
   ],
   "source": [
    "df.describe(include=['object'])"
   ]
  },
  {
   "cell_type": "code",
   "execution_count": 8,
   "metadata": {},
   "outputs": [],
   "source": [
    "species = df.iloc[:,0]\n",
    "island = df.iloc[:,1]\n",
    "culmen_length_mm = df.iloc[:,2]\n",
    "flipper_length_mm = df.iloc[:,3]\n",
    "body_mass_g = df.iloc[:,4]\n",
    "sex = df.iloc[:,5]"
   ]
  },
  {
   "cell_type": "code",
   "execution_count": 9,
   "metadata": {},
   "outputs": [],
   "source": [
    "unique_species = set(species) # unique species: {'Adelie', 'Chinstrap', 'Gentoo'}\n",
    "unique_islands = set(island) # unique islands: {'Biscoe', 'Dream', 'Torgersen'}\n",
    "unique_sexes = set(sex) # {'FEMALE', 'MALE', nan}"
   ]
  },
  {
   "cell_type": "code",
   "execution_count": 10,
   "metadata": {},
   "outputs": [
    {
     "data": {
      "text/plain": [
       "pandas.core.series.Series"
      ]
     },
     "execution_count": 10,
     "metadata": {},
     "output_type": "execute_result"
    }
   ],
   "source": [
    "# print(culmen_length_mm[:])\n",
    "type(culmen_length_mm)"
   ]
  },
  {
   "cell_type": "markdown",
   "metadata": {},
   "source": [
    "# Histograms"
   ]
  },
  {
   "cell_type": "code",
   "execution_count": 11,
   "metadata": {},
   "outputs": [
    {
     "data": {
      "text/plain": [
       "<matplotlib.axes._subplots.AxesSubplot at 0x14282690cc8>"
      ]
     },
     "execution_count": 11,
     "metadata": {},
     "output_type": "execute_result"
    },
    {
     "data": {
      "image/png": "[encoded data removed]",
      "text/plain": [
       "<Figure size 432x288 with 1 Axes>"
      ]
     },
     "metadata": {
      "needs_background": "light"
     },
     "output_type": "display_data"
    }
   ],
   "source": [
    "# Culmen length\n",
    "culmen_length_mm.hist()"
   ]
  },
  {
   "cell_type": "code",
   "execution_count": 12,
   "metadata": {},
   "outputs": [
    {
     "data": {
      "text/plain": [
       "0      39.1\n",
       "1      39.5\n",
       "2      40.3\n",
       "3      36.7\n",
       "4      39.3\n",
       "       ... \n",
       "146    36.6\n",
       "147    36.0\n",
       "148    37.8\n",
       "149    36.0\n",
       "150    41.5\n",
       "Name: culmen_length_mm, Length: 151, dtype: float64"
      ]
     },
     "execution_count": 12,
     "metadata": {},
     "output_type": "execute_result"
    }
   ],
   "source": [
    "# Practice generating a GroupBy object and subsetting the data\n",
    "by_species = df.groupby(\"species\") # generate a GroupBy object for species\n",
    "by_species.groups[\"Adelie\"] # outputs the indices of Adelie pengins\n",
    "by_species.get_group(\"Adelie\") # splits the dataframe into only Adelie penguins\n",
    "by_species.get_group(\"Adelie\")[\"culmen_length_mm\"] # shows only culmen length for Adelie penguins"
   ]
  },
  {
   "cell_type": "code",
   "execution_count": 13,
   "metadata": {},
   "outputs": [],
   "source": [
    "culmen_Adelie = by_species.get_group(\"Adelie\")[\"culmen_length_mm\"]\n",
    "culmen_Chinstrap = by_species.get_group(\"Chinstrap\")[\"culmen_length_mm\"]\n",
    "culmen_Gentoo = by_species.get_group(\"Gentoo\")[\"culmen_length_mm\"]\n",
    "\n",
    "flipper_Adelie = by_species.get_group(\"Adelie\")[\"flipper_length_mm\"]\n",
    "flipper_Chinstrap = by_species.get_group(\"Chinstrap\")[\"flipper_length_mm\"]\n",
    "flipper_Gentoo = by_species.get_group(\"Gentoo\")[\"flipper_length_mm\"]\n",
    "\n",
    "bodyMass_Adelie = by_species.get_group(\"Adelie\")[\"body_mass_g\"]\n",
    "bodyMass_Chinstrap = by_species.get_group(\"Chinstrap\")[\"body_mass_g\"]\n",
    "bodyMass_Gentoo = by_species.get_group(\"Gentoo\")[\"body_mass_g\"]"
   ]
  },
  {
   "cell_type": "code",
   "execution_count": 14,
   "metadata": {},
   "outputs": [
    {
     "data": {
      "image/png": "[encoded data removed]",
      "text/plain": [
       "<Figure size 432x288 with 1 Axes>"
      ]
     },
     "metadata": {
      "needs_background": "light"
     },
     "output_type": "display_data"
    },
    {
     "data": {
      "image/png": "[encoded data removed]",
      "text/plain": [
       "<Figure size 432x288 with 1 Axes>"
      ]
     },
     "metadata": {
      "needs_background": "light"
     },
     "output_type": "display_data"
    },
    {
     "data": {
      "image/png": "[encoded data removed]",
      "text/plain": [
       "<Figure size 432x288 with 1 Axes>"
      ]
     },
     "metadata": {
      "needs_background": "light"
     },
     "output_type": "display_data"
    }
   ],
   "source": [
    "# Culmen length by species\n",
    "culmen_Adelie.hist(bins=15, alpha=0.4)\n",
    "culmen_Chinstrap.hist(bins=15, alpha=0.4)\n",
    "culmen_Gentoo.hist(bins=15, alpha=0.4)\n",
    "# axs = culmenFig.plot.area(figsize=(12,4), subplots=True)\n",
    "plt.title(\"Culmen length by species\")\n",
    "plt.legend((\"Adelie\", \"Chinstrap\", \"Gentoo\"))\n",
    "plt.xlabel(\"Culmen length (mm)\")\n",
    "plt.ylabel(\"Count\")\n",
    "plt.savefig('culmen_length.png', dpi=500)\n",
    "plt.show()\n",
    "\n",
    "# Flipper length by species\n",
    "flipper_Adelie.hist(bins=15, alpha=0.4)\n",
    "flipper_Chinstrap.hist(bins=15, alpha=0.4)\n",
    "flipper_Gentoo.hist(bins=15, alpha=0.4)\n",
    "plt.title(\"Flipper length by species\")\n",
    "plt.legend((\"Adelie\", \"Chinstrap\", \"Gentoo\"))\n",
    "plt.xlabel(\"Flipper length (mm)\")\n",
    "plt.ylabel(\"Count\")\n",
    "plt.show()\n",
    "\n",
    "# Body mass by species\n",
    "bodyMass_Adelie.hist(bins=15, alpha=0.4)\n",
    "bodyMass_Chinstrap.hist(bins=15, alpha=0.4)\n",
    "bodyMass_Gentoo.hist(bins=15, alpha=0.4)\n",
    "plt.title(\"Body mass by species\")\n",
    "plt.legend((\"Adelie\", \"Chinstrap\", \"Gentoo\"))\n",
    "plt.xlabel(\"Body mass (g)\")\n",
    "plt.ylabel(\"Count\")\n",
    "plt.show()\n",
    "\n",
    "# plt.savefig('penguin_plot.png', dpi=500)"
   ]
  },
  {
   "cell_type": "code",
   "execution_count": 15,
   "metadata": {},
   "outputs": [
    {
     "data": {
      "image/png": "[encoded data removed]",
      "text/plain": [
       "<Figure size 432x288 with 3 Axes>"
      ]
     },
     "metadata": {
      "needs_background": "light"
     },
     "output_type": "display_data"
    }
   ],
   "source": [
    "# Try to make subplots\n",
    "\n",
    "plt.subplot(3,1,1)\n",
    "culmen_Adelie.hist(bins=15, alpha=0.4)\n",
    "culmen_Chinstrap.hist(bins=15, alpha=0.4)\n",
    "culmen_Gentoo.hist(bins=15, alpha=0.4)\n",
    "plt.title(\"Culmen length by species\")\n",
    "plt.legend((\"Adelie\", \"Chinstrap\", \"Gentoo\"))\n",
    "plt.xlabel(\"Culmen length (mm)\")\n",
    "plt.ylabel(\"Count\")\n",
    "# plt.show()\n",
    "\n",
    "plt.subplot(3,1,2)\n",
    "flipper_Adelie.hist(bins=15, alpha=0.4)\n",
    "flipper_Chinstrap.hist(bins=15, alpha=0.4)\n",
    "flipper_Gentoo.hist(bins=15, alpha=0.4)\n",
    "plt.title(\"Flipper length by species\")\n",
    "plt.legend((\"Adelie\", \"Chinstrap\", \"Gentoo\"))\n",
    "plt.xlabel(\"Flipper length (mm)\")\n",
    "plt.ylabel(\"Count\")\n",
    "# plt.show()\n",
    "\n",
    "plt.subplot(3,1,3)\n",
    "bodyMass_Adelie.hist(bins=15, alpha=0.4)\n",
    "bodyMass_Chinstrap.hist(bins=15, alpha=0.4)\n",
    "bodyMass_Gentoo.hist(bins=15, alpha=0.4)\n",
    "plt.title(\"Body mass by species\")\n",
    "plt.legend((\"Adelie\", \"Chinstrap\", \"Gentoo\"))\n",
    "plt.xlabel(\"Body mass (g)\")\n",
    "plt.ylabel(\"Count\")\n",
    "plt.show()\n"
   ]
  },
  {
   "cell_type": "markdown",
   "metadata": {},
   "source": [
    "# Box plots"
   ]
  },
  {
   "cell_type": "code",
   "execution_count": 50,
   "metadata": {},
   "outputs": [
    {
     "data": {
      "image/png": "[encoded data removed]",
      "text/plain": [
       "<Figure size 432x288 with 4 Axes>"
      ]
     },
     "metadata": {
      "needs_background": "light"
     },
     "output_type": "display_data"
    }
   ],
   "source": [
    "# Plot the culmen length by species\n",
    "# output: three boxplots with culmen length for 3 species\n",
    "# by_species = df.groupby(\"species\")\n",
    "\n",
    "by_species.boxplot(column=\"culmen_length_mm\")\n",
    "plt.show()\n",
    "\n"
   ]
  },
  {
   "cell_type": "code",
   "execution_count": null,
   "metadata": {},
   "outputs": [],
   "source": []
  }
 ],
 "metadata": {
  "kernelspec": {
   "display_name": "Python 3",
   "language": "python",
   "name": "python3"
  },
  "language_info": {
   "codemirror_mode": {
    "name": "ipython",
    "version": 3
   },
   "file_extension": ".py",
   "mimetype": "text/x-python",
   "name": "python",
   "nbconvert_exporter": "python",
   "pygments_lexer": "ipython3",
   "version": "3.7.6"
  }
 },
 "nbformat": 4,
 "nbformat_minor": 4
}
